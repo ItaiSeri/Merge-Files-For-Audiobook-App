{
 "cells": [
  {
   "cell_type": "code",
   "execution_count": null,
   "metadata": {},
   "outputs": [],
   "source": [
    "mypath='F:/Dowloads/The Compound Effect.Darren Hardy'\n",
    "\n",
    "def merge_mp3s(mypath):\n",
    "    from pydub import AudioSegment\n",
    "    from glob import glob\n",
    "    import os\n",
    "    from os.path import isdir, join\n",
    "    import time\n",
    "    \n",
    "    \n",
    "    \n",
    "    onlyfolders = [f for f in os.listdir(mypath) if isdir(join(mypath, f))]\n",
    "    \n",
    "    \n",
    "    for folder in onlyfolders:\n",
    "        start = time.time()\n",
    "        path=mypath+'/'+folder+'/*.mp3'\n",
    "        files = glob(path, recursive=True)\n",
    "        combined = AudioSegment.from_mp3(files[0])\n",
    "        files = files[1:]\n",
    "        for file in files:\n",
    "            combined = combined.append(AudioSegment.from_mp3(file), crossfade=100)\n",
    "        combined.export(mypath+'/'+folder+'_combined.mp3',format=\"mp3\")\n",
    "        end = time.time()\n",
    "        print('Done with ' + folder+'!'+', This took:',end-start)\n",
    "\n",
    "merge_mp3s(mypath)"
   ]
  }
 ],
 "metadata": {
  "kernelspec": {
   "display_name": "Python 3",
   "language": "python",
   "name": "python3"
  },
  "language_info": {
   "codemirror_mode": {
    "name": "ipython",
    "version": 3
   },
   "file_extension": ".py",
   "mimetype": "text/x-python",
   "name": "python",
   "nbconvert_exporter": "python",
   "pygments_lexer": "ipython3",
   "version": "3.8.3"
  }
 },
 "nbformat": 4,
 "nbformat_minor": 4
}
